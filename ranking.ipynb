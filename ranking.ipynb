{
 "cells": [
  {
   "cell_type": "code",
   "execution_count": 50,
   "metadata": {
    "collapsed": true
   },
   "outputs": [],
   "source": [
    "%matplotlib inline\n",
    "import time\n",
    "import random\n",
    "import math\n",
    "import pickle\n",
    "from collections import namedtuple, defaultdict, Counter\n",
    "\n",
    "import numpy as np\n",
    "import scipy as sp\n",
    "import matplotlib.pyplot as plt\n",
    "import pandas as pd\n",
    "import matplotlib\n",
    "matplotlib.style.use('ggplot')"
   ]
  },
  {
   "cell_type": "markdown",
   "metadata": {},
   "source": [
    "# Data Pull"
   ]
  },
  {
   "cell_type": "code",
   "execution_count": 99,
   "metadata": {
    "collapsed": false
   },
   "outputs": [
    {
     "data": {
      "text/plain": [
       "(1350, 2370, [3, 2, 1, 0], 72, 72)"
      ]
     },
     "execution_count": 99,
     "metadata": {},
     "output_type": "execute_result"
    }
   ],
   "source": [
    "with open('raw_data.txt') as f:\n",
    "    lines = f.readlines()\n",
    "lines = [x.strip().split('\\t') for x in lines]\n",
    "\n",
    "name_to_cid = {}\n",
    "cid_to_name = {}\n",
    "\n",
    "for row in lines:\n",
    "    for name in row:\n",
    "        if name not in name_to_cid:\n",
    "            name_to_cid[name] = len(name_to_cid)\n",
    "            cid_to_name[name_to_cid[name]] = name\n",
    "\n",
    "# Every row of G is a student's \"resume\", with most recent company first\n",
    "G = [[name_to_cid[name] for name in reversed(row)] for row in lines]\n",
    "num_students = len(G)\n",
    "num_companies = len(name_to_cid)\n",
    "company_counter = Counter([cid for row in G for cid in set(row)])\n",
    "\n",
    "cid_to_rows = defaultdict(set)\n",
    "for i, row in enumerate(G):\n",
    "    for cid in row:\n",
    "        cid_to_rows[cid].add(i)\n",
    "        \n",
    "num_students, num_companies, G[0], company_counter[name_to_cid['Google']], len(cid_to_rows[name_to_cid['Google']])"
   ]
  },
  {
   "cell_type": "code",
   "execution_count": 14,
   "metadata": {
    "collapsed": false
   },
   "outputs": [
    {
     "data": {
      "text/plain": [
       "(0.97294286597858992, 0.60209052070893998)"
      ]
     },
     "execution_count": 14,
     "metadata": {},
     "output_type": "execute_result"
    }
   ],
   "source": [
    "def _dcg(r, variant):\n",
    "    p = r.size\n",
    "    if variant == 1:\n",
    "        return r[0] + np.sum(r[1:] / np.log2(np.arange(2, p + 1)))\n",
    "    else:\n",
    "        return np.sum((np.exp2(r) - 1.0) / np.log2(np.arange(1, p + 1) + 1.0))\n",
    "\n",
    "def _ndcg(r, variant):\n",
    "    sorted_r = np.sort(r)[::-1]\n",
    "    return _dcg(r, variant) / _dcg(sorted_r, variant)\n",
    "    \n",
    "def ndcg(relevances, variant=2):\n",
    "    '''Calculates NDCG of the relevances array.\n",
    "    \n",
    "    Example: if the companies given were [100, 50, 75, 25, 50], then they will be transformed to [4, 2, 3, 1, 2].\n",
    "    relevances: the companies' relevances in chronological order, recent-first (higher is better).\n",
    "    \n",
    "    '''\n",
    "    assert variant in [1, 2]\n",
    "    z = {}\n",
    "    val = 1\n",
    "    for r in sorted(relevances):\n",
    "        if r not in z:\n",
    "            z[r] = val\n",
    "            val += 1\n",
    "    ans = [z[r] for r in relevances]\n",
    "    return _ndcg(np.asfarray(ans), variant)\n",
    "\n",
    "ndcg([100, 50, 75, 25, 50]), ndcg([1, 2, 3, 4])"
   ]
  },
  {
   "cell_type": "code",
   "execution_count": 33,
   "metadata": {
    "collapsed": true
   },
   "outputs": [],
   "source": [
    "def get_relevance(ranking):\n",
    "    '''Returns a mapping of cid -> relevance, (higher is better).'''\n",
    "    z = {}\n",
    "    for i, cid in enumerate(ranking):\n",
    "        z[cid] = num_companies - i\n",
    "    return z\n",
    "\n",
    "def score(ranking):\n",
    "    '''Sum of the scores.'''\n",
    "    relevance = get_relevance(ranking)\n",
    "    scores = [ndcg([relevance[cid] for cid in row]) for row in G]\n",
    "    _score = sum(scores)\n",
    "    return _score, scores\n",
    "\n",
    "def get_partial_relevance(cid_to_rank, cid):\n",
    "    '''Returns the relevances of companies who are on the same resumes as the given cid.\n",
    "    \n",
    "    Essentially, rank and relevance are inversely correlated.\n",
    "    \n",
    "    '''\n",
    "    z = {}\n",
    "    for row_num in cid_to_rows[cid]:\n",
    "        for company in G[row_num]:\n",
    "            if company not in z:\n",
    "                z[company] = num_companies - cid_to_rank[company]\n",
    "    return z\n",
    "\n",
    "def partial_score(cid_to_rank, cid):\n",
    "    '''Returns the total score of the resumes that contain the given cid.'''\n",
    "    relevance = get_partial_relevance(cid_to_rank, cid)\n",
    "    _score = sum(ndcg([relevance[cid] for cid in G[row_num]]) for row_num in cid_to_rows[cid])\n",
    "    return _score"
   ]
  },
  {
   "cell_type": "code",
   "execution_count": 46,
   "metadata": {
    "collapsed": true
   },
   "outputs": [],
   "source": [
    "def get_names(ranking):\n",
    "    '''Returns the names of the given ranking.'''\n",
    "    return [cid_to_name[cid] for cid in ranking]\n",
    "\n",
    "def insert_ranking_test(from_val, to_val, ranking):\n",
    "    '''Returns a copy of ranking where ranking[from_val] is insert before/after ranking[to_val],\n",
    "    depending on the relative ordering.\n",
    "    \n",
    "    '''\n",
    "    assert from_val != to_val\n",
    "    ranking_test = ranking[:]\n",
    "    v = ranking_test.pop(from_val)\n",
    "    ranking_test.insert(to_val, v)\n",
    "    #assert len(set(ranking_test)) == num_companies\n",
    "    assert len(ranking_test) == num_companies\n",
    "    return ranking_test\n",
    "\n",
    "def get_ranking_map(ranking):\n",
    "    '''Returns a mapping of cid -> rank.'''\n",
    "    z = {}\n",
    "    for i, v in enumerate(ranking):\n",
    "        z[v] = i\n",
    "    return z\n",
    "\n",
    "def fast_insert_score(from_val, to_val, cid, ranking_map):\n",
    "    '''A hack to efficiently calculate score diffs, using the fact that NDCG scores relative ranking only.'''\n",
    "    assert ranking_map[cid] == from_val\n",
    "    assert from_val != to_val\n",
    "    old_partial_score = get_partial_score(ranking_map, cid)\n",
    "    if to_val < from_val:\n",
    "        ranking_map[cid] = to_val - 0.5\n",
    "    else:\n",
    "        ranking_map[cid] = to_val + 0.5\n",
    "    new_partial_score = get_partial_score(ranking_map, cid)\n",
    "    ranking_map[cid] = from_val\n",
    "    return new_partial_score - old_partial_score\n",
    "    \n",
    "def bsearch_low(x, ranking, current_score):\n",
    "    '''Tries to insert x as close to the top of the ranking using binary search.'''\n",
    "    ranking_map = get_ranking_map(ranking)\n",
    "    y_low = 0 #insert before this guy\n",
    "    y_high = x # non-inclusive\n",
    "\n",
    "    while y_high - y_low > 1:\n",
    "        y_mid = (y_low + y_high - 1) // 2 # this rounds closer to y_low\n",
    "        y_mid = random.randint(y_low, y_mid) # more aggressive, more likely to overshoot\n",
    "\n",
    "        fast_score = fast_insert_score(x, y_mid, ranking[x], ranking_map)\n",
    "\n",
    "        if math.isclose(fast_score, 0.0, abs_tol=1e-5):\n",
    "            y_high = y_mid + 1\n",
    "        elif fast_score > 0.0:\n",
    "            ranking_test = insert_ranking_test(x, y_mid, ranking)\n",
    "            new_score = score(ranking_test)[0]\n",
    "            assert new_score > current_score\n",
    "            current_score = new_score\n",
    "            ranking = ranking_test\n",
    "            return ranking, current_score\n",
    "        else:\n",
    "            y_low = y_mid + 1\n",
    "            \n",
    "    if y_low != x:\n",
    "        ranking_test = insert_ranking_test(x, y_low, ranking)\n",
    "        new_score = score(ranking_test)[0]\n",
    "        if new_score > current_score:\n",
    "            current_score = new_score\n",
    "            ranking = ranking_test\n",
    "    return ranking, current_score\n",
    "\n",
    "def bsearch_high(x, ranking, current_score):\n",
    "    '''Tries to insert x as close to the bottom of the ranking using binary search.'''\n",
    "    ranking_map = get_ranking_map(ranking)\n",
    "    y_low = x #non-inclusive\n",
    "    y_high = num_companies - 1 #insert after this guy\n",
    "\n",
    "    while y_high - y_low > 1:\n",
    "        y_mid = (y_low + y_high + 2) // 2 # this rounds closer to y_high\n",
    "        y_mid = random.randint(y_mid, y_high) # more aggressive, more likely to overshoot\n",
    "\n",
    "        fast_score = fast_insert_score(x, y_mid, ranking[x], ranking_map)\n",
    "\n",
    "        if math.isclose(fast_score, 0.0, abs_tol=1e-5):\n",
    "            y_low = y_mid - 1\n",
    "        elif fast_score > 0.0:\n",
    "            ranking_test = insert_ranking_test(x, y_mid, ranking)\n",
    "            new_score = score(ranking_test)[0]\n",
    "            assert new_score > current_score\n",
    "            current_score = new_score\n",
    "            ranking = ranking_test\n",
    "            return ranking, current_score\n",
    "        else:\n",
    "            y_high = y_mid - 1\n",
    "    \n",
    "    if y_high != x:\n",
    "        ranking_test = insert_ranking_test(x, y_high, ranking)\n",
    "        new_score = score(ranking_test)[0]\n",
    "        if new_score > current_score:\n",
    "            current_score = new_score\n",
    "            ranking = ranking_test\n",
    "    return ranking, current_score"
   ]
  },
  {
   "cell_type": "code",
   "execution_count": 47,
   "metadata": {
    "collapsed": false
   },
   "outputs": [
    {
     "data": {
      "text/plain": [
       "(1104.6074364292467, 1041.1769528958732, 1073.3594536312967)"
      ]
     },
     "execution_count": 47,
     "metadata": {},
     "output_type": "execute_result"
    }
   ],
   "source": [
    "# Each element of `ranking` is a company. So companies closer to the beginning of the list are better.\n",
    "# A random shuffle scores ~1073 / 1350\n",
    "_ranking = list(range(num_companies))\n",
    "_rand_scores = []\n",
    "for _ in range(200):\n",
    "    np.random.shuffle(ranking)\n",
    "    current_score = score(ranking)[0]\n",
    "    _rand_scores += [current_score]\n",
    "max(_rand_scores), min(_rand_scores), sum(_rand_scores) / 200"
   ]
  },
  {
   "cell_type": "code",
   "execution_count": 48,
   "metadata": {
    "collapsed": true
   },
   "outputs": [],
   "source": [
    "_scores = []  # stores the scores we've seen\n",
    "_individual_scores = []  # stores the individual scores we've seen"
   ]
  },
  {
   "cell_type": "code",
   "execution_count": 49,
   "metadata": {
    "collapsed": false,
    "scrolled": true
   },
   "outputs": [
    {
     "name": "stdout",
     "output_type": "stream",
     "text": [
      "Iteration: 0 1065.14095665 2016-02-29 20:56:38\n",
      "200 1125.06765348 2016-02-29 20:56:59\n",
      "400 1148.04900695 2016-02-29 20:57:20\n",
      "600 1168.22938954 2016-02-29 20:57:41\n",
      "800 1186.29645566 2016-02-29 20:58:02\n",
      "1000 1201.63575282 2016-02-29 20:58:30\n",
      "1200 1216.24809817 2016-02-29 20:58:52\n",
      "1400 1226.11879244 2016-02-29 20:59:15\n",
      "1600 1233.27304446 2016-02-29 20:59:35\n",
      "1800 1239.89193819 2016-02-29 20:59:55\n",
      "2000 1243.68605854 2016-02-29 21:00:15\n",
      "2200 1246.61800261 2016-02-29 21:00:35\n",
      "Iteration: 1 1248.54776735 2016-02-29 21:00:53\n",
      "2400 1250.01880912 2016-02-29 21:00:56\n",
      "2600 1258.97906819 2016-02-29 21:01:16\n",
      "2800 1271.6606035 2016-02-29 21:01:40\n",
      "3000 1281.9122695 2016-02-29 21:02:04\n",
      "3200 1290.00507368 2016-02-29 21:02:27\n",
      "3400 1293.8770839 2016-02-29 21:02:48\n",
      "3600 1299.44308248 2016-02-29 21:03:10\n",
      "3800 1301.09508192 2016-02-29 21:03:31\n",
      "4000 1304.04657115 2016-02-29 21:03:53\n",
      "4200 1304.81005971 2016-02-29 21:04:14\n",
      "4400 1305.82819284 2016-02-29 21:04:35\n",
      "4600 1306.41684803 2016-02-29 21:04:57\n",
      "Iteration: 2 1306.45655603 2016-02-29 21:05:13\n",
      "4800 1307.46440086 2016-02-29 21:05:20\n",
      "5000 1310.91996632 2016-02-29 21:05:41\n",
      "5200 1314.45555182 2016-02-29 21:06:04\n",
      "5400 1316.70200258 2016-02-29 21:06:26\n",
      "5600 1318.70347367 2016-02-29 21:06:48\n",
      "5800 1319.56809669 2016-02-29 21:07:10\n",
      "6000 1320.89847749 2016-02-29 21:07:33\n",
      "6200 1321.40934454 2016-02-29 21:07:55\n",
      "6400 1322.38591131 2016-02-29 21:08:17\n",
      "6600 1322.87050855 2016-02-29 21:08:38\n",
      "6800 1323.17127207 2016-02-29 21:08:59\n",
      "7000 1323.39788669 2016-02-29 21:09:21\n",
      "Iteration: 3 1323.59520763 2016-02-29 21:09:32\n",
      "7200 1324.10594436 2016-02-29 21:09:42\n",
      "7400 1324.51538675 2016-02-29 21:10:04\n",
      "7600 1325.61127384 2016-02-29 21:10:27\n",
      "7800 1326.14696171 2016-02-29 21:10:49\n",
      "8000 1326.58169675 2016-02-29 21:11:11\n",
      "8200 1326.75773223 2016-02-29 21:11:32\n",
      "8400 1326.96689448 2016-02-29 21:11:54\n",
      "8600 1327.20195499 2016-02-29 21:12:16\n",
      "8800 1327.53789729 2016-02-29 21:12:37\n",
      "9000 1327.56770624 2016-02-29 21:12:59\n",
      "9200 1327.63609085 2016-02-29 21:13:21\n",
      "9400 1327.76927235 2016-02-29 21:13:42\n",
      "Iteration: 4 1327.82953602 2016-02-29 21:13:51\n",
      "9600 1328.15065092 2016-02-29 21:14:03\n",
      "9800 1328.33259028 2016-02-29 21:14:26\n",
      "10000 1328.78688484 2016-02-29 21:14:49\n",
      "10200 1328.96757802 2016-02-29 21:15:14\n",
      "10400 1329.14916189 2016-02-29 21:15:39\n",
      "10600 1329.27475415 2016-02-29 21:16:01\n",
      "10800 1329.32267809 2016-02-29 21:16:24\n",
      "11000 1329.32671083 2016-02-29 21:16:46\n",
      "11200 1329.33884282 2016-02-29 21:17:09\n",
      "11400 1329.35129618 2016-02-29 21:17:31\n",
      "11600 1329.36770493 2016-02-29 21:17:52\n",
      "11800 1329.39135857 2016-02-29 21:18:16\n",
      "Iteration: 5 1329.41723405 2016-02-29 21:18:22\n",
      "12000 1329.49268615 2016-02-29 21:18:41\n",
      "12200 1329.49268615 2016-02-29 21:19:06\n",
      "12400 1329.54719258 2016-02-29 21:19:29\n",
      "12600 1329.54719258 2016-02-29 21:19:54\n",
      "12800 1329.57917961 2016-02-29 21:20:15\n",
      "13000 1329.62758552 2016-02-29 21:20:37\n",
      "13200 1329.65095447 2016-02-29 21:20:59\n",
      "13400 1329.65413878 2016-02-29 21:21:21\n",
      "13600 1329.66629548 2016-02-29 21:21:45\n",
      "13800 1329.68916211 2016-02-29 21:22:06\n",
      "14000 1329.68916211 2016-02-29 21:22:27\n",
      "14200 1329.70881614 2016-02-29 21:22:48\n",
      "Iteration: 6 1329.74789944 2016-02-29 21:22:50\n",
      "14400 1329.74789944 2016-02-29 21:23:09\n",
      "14600 1329.74789944 2016-02-29 21:23:34\n",
      "14800 1329.74789944 2016-02-29 21:24:01\n",
      "15000 1329.75966732 2016-02-29 21:24:27\n",
      "15200 1329.77956805 2016-02-29 21:24:50\n",
      "15400 1329.79288822 2016-02-29 21:25:15\n",
      "15600 1329.79288822 2016-02-29 21:25:42\n",
      "15800 1329.80053808 2016-02-29 21:26:05\n",
      "16000 1329.80211265 2016-02-29 21:26:25\n",
      "16200 1329.80211265 2016-02-29 21:26:46\n",
      "16400 1329.81398092 2016-02-29 21:27:07\n",
      "Iteration: 7 1329.82462869 2016-02-29 21:27:29\n",
      "16600 1329.82462869 2016-02-29 21:27:30\n",
      "16800 1329.82462869 2016-02-29 21:28:00\n",
      "17000 1329.82462869 2016-02-29 21:28:25\n",
      "17200 1329.82462869 2016-02-29 21:28:50\n",
      "17400 1329.82462869 2016-02-29 21:29:12\n",
      "17600 1329.82462869 2016-02-29 21:29:33\n",
      "17800 1329.82462869 2016-02-29 21:29:54\n",
      "18000 1329.82462869 2016-02-29 21:30:15\n",
      "18200 1329.82462869 2016-02-29 21:30:36\n",
      "18400 1329.82462869 2016-02-29 21:30:56\n",
      "18600 1329.82462869 2016-02-29 21:31:17\n",
      "18800 1329.82462869 2016-02-29 21:31:42\n",
      "Iteration: 8 1329.82462869 2016-02-29 21:32:00\n",
      "19000 1329.82462869 2016-02-29 21:32:04\n",
      "19200 1329.82462869 2016-02-29 21:32:27\n",
      "19400 1329.82462869 2016-02-29 21:32:52\n"
     ]
    },
    {
     "ename": "KeyboardInterrupt",
     "evalue": "",
     "output_type": "error",
     "traceback": [
      "\u001b[0;31m---------------------------------------------------------------------------\u001b[0m",
      "\u001b[0;31mKeyboardInterrupt\u001b[0m                         Traceback (most recent call last)",
      "\u001b[0;32m<ipython-input-49-7fcfcddfb29a>\u001b[0m in \u001b[0;36m<module>\u001b[0;34m()\u001b[0m\n\u001b[1;32m     19\u001b[0m \u001b[0;34m\u001b[0m\u001b[0m\n\u001b[1;32m     20\u001b[0m         \u001b[0mtmp_ranking\u001b[0m\u001b[0;34m,\u001b[0m \u001b[0mtmp_score\u001b[0m \u001b[0;34m=\u001b[0m \u001b[0mbsearch_low\u001b[0m\u001b[0;34m(\u001b[0m\u001b[0mx\u001b[0m\u001b[0;34m,\u001b[0m \u001b[0mtmp_ranking\u001b[0m\u001b[0;34m,\u001b[0m \u001b[0mtmp_score\u001b[0m\u001b[0;34m)\u001b[0m\u001b[0;34m\u001b[0m\u001b[0m\n\u001b[0;32m---> 21\u001b[0;31m         \u001b[0mtmp_ranking\u001b[0m\u001b[0;34m,\u001b[0m \u001b[0mtmp_score\u001b[0m \u001b[0;34m=\u001b[0m \u001b[0mbsearch_high\u001b[0m\u001b[0;34m(\u001b[0m\u001b[0mx\u001b[0m\u001b[0;34m,\u001b[0m \u001b[0mtmp_ranking\u001b[0m\u001b[0;34m,\u001b[0m \u001b[0mtmp_score\u001b[0m\u001b[0;34m)\u001b[0m\u001b[0;34m\u001b[0m\u001b[0m\n\u001b[0m\u001b[1;32m     22\u001b[0m \u001b[0;34m\u001b[0m\u001b[0m\n\u001b[1;32m     23\u001b[0m         \u001b[0;32mif\u001b[0m \u001b[0mtmp_score\u001b[0m \u001b[0;34m>\u001b[0m \u001b[0mprev_score\u001b[0m\u001b[0;34m:\u001b[0m\u001b[0;34m\u001b[0m\u001b[0m\n",
      "\u001b[0;32m<ipython-input-46-9b9aceb02883>\u001b[0m in \u001b[0;36mbsearch_high\u001b[0;34m(x, ranking, current_score)\u001b[0m\n\u001b[1;32m     94\u001b[0m     \u001b[0;32mif\u001b[0m \u001b[0my_high\u001b[0m \u001b[0;34m!=\u001b[0m \u001b[0mx\u001b[0m\u001b[0;34m:\u001b[0m\u001b[0;34m\u001b[0m\u001b[0m\n\u001b[1;32m     95\u001b[0m         \u001b[0mranking_test\u001b[0m \u001b[0;34m=\u001b[0m \u001b[0minsert_ranking_test\u001b[0m\u001b[0;34m(\u001b[0m\u001b[0mx\u001b[0m\u001b[0;34m,\u001b[0m \u001b[0my_high\u001b[0m\u001b[0;34m,\u001b[0m \u001b[0mranking\u001b[0m\u001b[0;34m)\u001b[0m\u001b[0;34m\u001b[0m\u001b[0m\n\u001b[0;32m---> 96\u001b[0;31m         \u001b[0mnew_score\u001b[0m \u001b[0;34m=\u001b[0m \u001b[0mscore\u001b[0m\u001b[0;34m(\u001b[0m\u001b[0mranking_test\u001b[0m\u001b[0;34m)\u001b[0m\u001b[0;34m[\u001b[0m\u001b[0;36m0\u001b[0m\u001b[0;34m]\u001b[0m\u001b[0;34m\u001b[0m\u001b[0m\n\u001b[0m\u001b[1;32m     97\u001b[0m         \u001b[0;32mif\u001b[0m \u001b[0mnew_score\u001b[0m \u001b[0;34m>\u001b[0m \u001b[0mcurrent_score\u001b[0m\u001b[0;34m:\u001b[0m\u001b[0;34m\u001b[0m\u001b[0m\n\u001b[1;32m     98\u001b[0m             \u001b[0mcurrent_score\u001b[0m \u001b[0;34m=\u001b[0m \u001b[0mnew_score\u001b[0m\u001b[0;34m\u001b[0m\u001b[0m\n",
      "\u001b[0;32m<ipython-input-33-ede59f1945bb>\u001b[0m in \u001b[0;36mscore\u001b[0;34m(ranking)\u001b[0m\n\u001b[1;32m      9\u001b[0m     \u001b[0;34m'''Sum of the scores.'''\u001b[0m\u001b[0;34m\u001b[0m\u001b[0m\n\u001b[1;32m     10\u001b[0m     \u001b[0mrelevance\u001b[0m \u001b[0;34m=\u001b[0m \u001b[0mget_relevance\u001b[0m\u001b[0;34m(\u001b[0m\u001b[0mranking\u001b[0m\u001b[0;34m)\u001b[0m\u001b[0;34m\u001b[0m\u001b[0m\n\u001b[0;32m---> 11\u001b[0;31m     \u001b[0mscores\u001b[0m \u001b[0;34m=\u001b[0m \u001b[0;34m[\u001b[0m\u001b[0mndcg\u001b[0m\u001b[0;34m(\u001b[0m\u001b[0;34m[\u001b[0m\u001b[0mrelevance\u001b[0m\u001b[0;34m[\u001b[0m\u001b[0mcid\u001b[0m\u001b[0;34m]\u001b[0m \u001b[0;32mfor\u001b[0m \u001b[0mcid\u001b[0m \u001b[0;32min\u001b[0m \u001b[0mrow\u001b[0m\u001b[0;34m]\u001b[0m\u001b[0;34m)\u001b[0m \u001b[0;32mfor\u001b[0m \u001b[0mrow\u001b[0m \u001b[0;32min\u001b[0m \u001b[0mG\u001b[0m\u001b[0;34m]\u001b[0m\u001b[0;34m\u001b[0m\u001b[0m\n\u001b[0m\u001b[1;32m     12\u001b[0m     \u001b[0m_score\u001b[0m \u001b[0;34m=\u001b[0m \u001b[0msum\u001b[0m\u001b[0;34m(\u001b[0m\u001b[0mscores\u001b[0m\u001b[0;34m)\u001b[0m\u001b[0;34m\u001b[0m\u001b[0m\n\u001b[1;32m     13\u001b[0m     \u001b[0;32mreturn\u001b[0m \u001b[0m_score\u001b[0m\u001b[0;34m,\u001b[0m \u001b[0mscores\u001b[0m\u001b[0;34m\u001b[0m\u001b[0m\n",
      "\u001b[0;32m<ipython-input-33-ede59f1945bb>\u001b[0m in \u001b[0;36m<listcomp>\u001b[0;34m(.0)\u001b[0m\n\u001b[1;32m      9\u001b[0m     \u001b[0;34m'''Sum of the scores.'''\u001b[0m\u001b[0;34m\u001b[0m\u001b[0m\n\u001b[1;32m     10\u001b[0m     \u001b[0mrelevance\u001b[0m \u001b[0;34m=\u001b[0m \u001b[0mget_relevance\u001b[0m\u001b[0;34m(\u001b[0m\u001b[0mranking\u001b[0m\u001b[0;34m)\u001b[0m\u001b[0;34m\u001b[0m\u001b[0m\n\u001b[0;32m---> 11\u001b[0;31m     \u001b[0mscores\u001b[0m \u001b[0;34m=\u001b[0m \u001b[0;34m[\u001b[0m\u001b[0mndcg\u001b[0m\u001b[0;34m(\u001b[0m\u001b[0;34m[\u001b[0m\u001b[0mrelevance\u001b[0m\u001b[0;34m[\u001b[0m\u001b[0mcid\u001b[0m\u001b[0;34m]\u001b[0m \u001b[0;32mfor\u001b[0m \u001b[0mcid\u001b[0m \u001b[0;32min\u001b[0m \u001b[0mrow\u001b[0m\u001b[0;34m]\u001b[0m\u001b[0;34m)\u001b[0m \u001b[0;32mfor\u001b[0m \u001b[0mrow\u001b[0m \u001b[0;32min\u001b[0m \u001b[0mG\u001b[0m\u001b[0;34m]\u001b[0m\u001b[0;34m\u001b[0m\u001b[0m\n\u001b[0m\u001b[1;32m     12\u001b[0m     \u001b[0m_score\u001b[0m \u001b[0;34m=\u001b[0m \u001b[0msum\u001b[0m\u001b[0;34m(\u001b[0m\u001b[0mscores\u001b[0m\u001b[0;34m)\u001b[0m\u001b[0;34m\u001b[0m\u001b[0m\n\u001b[1;32m     13\u001b[0m     \u001b[0;32mreturn\u001b[0m \u001b[0m_score\u001b[0m\u001b[0;34m,\u001b[0m \u001b[0mscores\u001b[0m\u001b[0;34m\u001b[0m\u001b[0m\n",
      "\u001b[0;32m<ipython-input-14-b15ad5d4420e>\u001b[0m in \u001b[0;36mndcg\u001b[0;34m(relevances, variant)\u001b[0m\n\u001b[1;32m     25\u001b[0m             \u001b[0mval\u001b[0m \u001b[0;34m+=\u001b[0m \u001b[0;36m1\u001b[0m\u001b[0;34m\u001b[0m\u001b[0m\n\u001b[1;32m     26\u001b[0m     \u001b[0mans\u001b[0m \u001b[0;34m=\u001b[0m \u001b[0;34m[\u001b[0m\u001b[0mz\u001b[0m\u001b[0;34m[\u001b[0m\u001b[0mr\u001b[0m\u001b[0;34m]\u001b[0m \u001b[0;32mfor\u001b[0m \u001b[0mr\u001b[0m \u001b[0;32min\u001b[0m \u001b[0mrelevances\u001b[0m\u001b[0;34m]\u001b[0m\u001b[0;34m\u001b[0m\u001b[0m\n\u001b[0;32m---> 27\u001b[0;31m     \u001b[0;32mreturn\u001b[0m \u001b[0m_ndcg\u001b[0m\u001b[0;34m(\u001b[0m\u001b[0mnp\u001b[0m\u001b[0;34m.\u001b[0m\u001b[0masfarray\u001b[0m\u001b[0;34m(\u001b[0m\u001b[0mans\u001b[0m\u001b[0;34m)\u001b[0m\u001b[0;34m,\u001b[0m \u001b[0mvariant\u001b[0m\u001b[0;34m)\u001b[0m\u001b[0;34m\u001b[0m\u001b[0m\n\u001b[0m\u001b[1;32m     28\u001b[0m \u001b[0;34m\u001b[0m\u001b[0m\n\u001b[1;32m     29\u001b[0m \u001b[0mndcg\u001b[0m\u001b[0;34m(\u001b[0m\u001b[0;34m[\u001b[0m\u001b[0;36m100\u001b[0m\u001b[0;34m,\u001b[0m \u001b[0;36m50\u001b[0m\u001b[0;34m,\u001b[0m \u001b[0;36m75\u001b[0m\u001b[0;34m,\u001b[0m \u001b[0;36m25\u001b[0m\u001b[0;34m,\u001b[0m \u001b[0;36m50\u001b[0m\u001b[0;34m]\u001b[0m\u001b[0;34m)\u001b[0m\u001b[0;34m,\u001b[0m \u001b[0mndcg\u001b[0m\u001b[0;34m(\u001b[0m\u001b[0;34m[\u001b[0m\u001b[0;36m1\u001b[0m\u001b[0;34m,\u001b[0m \u001b[0;36m2\u001b[0m\u001b[0;34m,\u001b[0m \u001b[0;36m3\u001b[0m\u001b[0;34m,\u001b[0m \u001b[0;36m4\u001b[0m\u001b[0;34m]\u001b[0m\u001b[0;34m)\u001b[0m\u001b[0;34m\u001b[0m\u001b[0m\n",
      "\u001b[0;32m<ipython-input-14-b15ad5d4420e>\u001b[0m in \u001b[0;36m_ndcg\u001b[0;34m(r, variant)\u001b[0m\n\u001b[1;32m      8\u001b[0m \u001b[0;32mdef\u001b[0m \u001b[0m_ndcg\u001b[0m\u001b[0;34m(\u001b[0m\u001b[0mr\u001b[0m\u001b[0;34m,\u001b[0m \u001b[0mvariant\u001b[0m\u001b[0;34m)\u001b[0m\u001b[0;34m:\u001b[0m\u001b[0;34m\u001b[0m\u001b[0m\n\u001b[1;32m      9\u001b[0m     \u001b[0msorted_r\u001b[0m \u001b[0;34m=\u001b[0m \u001b[0mnp\u001b[0m\u001b[0;34m.\u001b[0m\u001b[0msort\u001b[0m\u001b[0;34m(\u001b[0m\u001b[0mr\u001b[0m\u001b[0;34m)\u001b[0m\u001b[0;34m[\u001b[0m\u001b[0;34m:\u001b[0m\u001b[0;34m:\u001b[0m\u001b[0;34m-\u001b[0m\u001b[0;36m1\u001b[0m\u001b[0;34m]\u001b[0m\u001b[0;34m\u001b[0m\u001b[0m\n\u001b[0;32m---> 10\u001b[0;31m     \u001b[0;32mreturn\u001b[0m \u001b[0m_dcg\u001b[0m\u001b[0;34m(\u001b[0m\u001b[0mr\u001b[0m\u001b[0;34m,\u001b[0m \u001b[0mvariant\u001b[0m\u001b[0;34m)\u001b[0m \u001b[0;34m/\u001b[0m \u001b[0m_dcg\u001b[0m\u001b[0;34m(\u001b[0m\u001b[0msorted_r\u001b[0m\u001b[0;34m,\u001b[0m \u001b[0mvariant\u001b[0m\u001b[0;34m)\u001b[0m\u001b[0;34m\u001b[0m\u001b[0m\n\u001b[0m\u001b[1;32m     11\u001b[0m \u001b[0;34m\u001b[0m\u001b[0m\n\u001b[1;32m     12\u001b[0m \u001b[0;32mdef\u001b[0m \u001b[0mndcg\u001b[0m\u001b[0;34m(\u001b[0m\u001b[0mrelevances\u001b[0m\u001b[0;34m,\u001b[0m \u001b[0mvariant\u001b[0m\u001b[0;34m=\u001b[0m\u001b[0;36m2\u001b[0m\u001b[0;34m)\u001b[0m\u001b[0;34m:\u001b[0m\u001b[0;34m\u001b[0m\u001b[0m\n",
      "\u001b[0;32m<ipython-input-14-b15ad5d4420e>\u001b[0m in \u001b[0;36m_dcg\u001b[0;34m(r, variant)\u001b[0m\n\u001b[1;32m      4\u001b[0m         \u001b[0;32mreturn\u001b[0m \u001b[0mr\u001b[0m\u001b[0;34m[\u001b[0m\u001b[0;36m0\u001b[0m\u001b[0;34m]\u001b[0m \u001b[0;34m+\u001b[0m \u001b[0mnp\u001b[0m\u001b[0;34m.\u001b[0m\u001b[0msum\u001b[0m\u001b[0;34m(\u001b[0m\u001b[0mr\u001b[0m\u001b[0;34m[\u001b[0m\u001b[0;36m1\u001b[0m\u001b[0;34m:\u001b[0m\u001b[0;34m]\u001b[0m \u001b[0;34m/\u001b[0m \u001b[0mnp\u001b[0m\u001b[0;34m.\u001b[0m\u001b[0mlog2\u001b[0m\u001b[0;34m(\u001b[0m\u001b[0mnp\u001b[0m\u001b[0;34m.\u001b[0m\u001b[0marange\u001b[0m\u001b[0;34m(\u001b[0m\u001b[0;36m2\u001b[0m\u001b[0;34m,\u001b[0m \u001b[0mp\u001b[0m \u001b[0;34m+\u001b[0m \u001b[0;36m1\u001b[0m\u001b[0;34m)\u001b[0m\u001b[0;34m)\u001b[0m\u001b[0;34m)\u001b[0m\u001b[0;34m\u001b[0m\u001b[0m\n\u001b[1;32m      5\u001b[0m     \u001b[0;32melse\u001b[0m\u001b[0;34m:\u001b[0m\u001b[0;34m\u001b[0m\u001b[0m\n\u001b[0;32m----> 6\u001b[0;31m         \u001b[0;32mreturn\u001b[0m \u001b[0mnp\u001b[0m\u001b[0;34m.\u001b[0m\u001b[0msum\u001b[0m\u001b[0;34m(\u001b[0m\u001b[0;34m(\u001b[0m\u001b[0mnp\u001b[0m\u001b[0;34m.\u001b[0m\u001b[0mexp2\u001b[0m\u001b[0;34m(\u001b[0m\u001b[0mr\u001b[0m\u001b[0;34m)\u001b[0m \u001b[0;34m-\u001b[0m \u001b[0;36m1.0\u001b[0m\u001b[0;34m)\u001b[0m \u001b[0;34m/\u001b[0m \u001b[0mnp\u001b[0m\u001b[0;34m.\u001b[0m\u001b[0mlog2\u001b[0m\u001b[0;34m(\u001b[0m\u001b[0mnp\u001b[0m\u001b[0;34m.\u001b[0m\u001b[0marange\u001b[0m\u001b[0;34m(\u001b[0m\u001b[0;36m1\u001b[0m\u001b[0;34m,\u001b[0m \u001b[0mp\u001b[0m \u001b[0;34m+\u001b[0m \u001b[0;36m1\u001b[0m\u001b[0;34m)\u001b[0m \u001b[0;34m+\u001b[0m \u001b[0;36m1.0\u001b[0m\u001b[0;34m)\u001b[0m\u001b[0;34m)\u001b[0m\u001b[0;34m\u001b[0m\u001b[0m\n\u001b[0m\u001b[1;32m      7\u001b[0m \u001b[0;34m\u001b[0m\u001b[0m\n\u001b[1;32m      8\u001b[0m \u001b[0;32mdef\u001b[0m \u001b[0m_ndcg\u001b[0m\u001b[0;34m(\u001b[0m\u001b[0mr\u001b[0m\u001b[0;34m,\u001b[0m \u001b[0mvariant\u001b[0m\u001b[0;34m)\u001b[0m\u001b[0;34m:\u001b[0m\u001b[0;34m\u001b[0m\u001b[0m\n",
      "\u001b[0;32m/usr/local/lib/python3.5/site-packages/numpy/core/fromnumeric.py\u001b[0m in \u001b[0;36msum\u001b[0;34m(a, axis, dtype, out, keepdims)\u001b[0m\n\u001b[1;32m   1833\u001b[0m     \u001b[0;32melse\u001b[0m\u001b[0;34m:\u001b[0m\u001b[0;34m\u001b[0m\u001b[0m\n\u001b[1;32m   1834\u001b[0m         return _methods._sum(a, axis=axis, dtype=dtype,\n\u001b[0;32m-> 1835\u001b[0;31m                              out=out, keepdims=keepdims)\n\u001b[0m\u001b[1;32m   1836\u001b[0m \u001b[0;34m\u001b[0m\u001b[0m\n\u001b[1;32m   1837\u001b[0m \u001b[0;34m\u001b[0m\u001b[0m\n",
      "\u001b[0;32m/usr/local/lib/python3.5/site-packages/numpy/core/_methods.py\u001b[0m in \u001b[0;36m_sum\u001b[0;34m(a, axis, dtype, out, keepdims)\u001b[0m\n\u001b[1;32m     30\u001b[0m \u001b[0;34m\u001b[0m\u001b[0m\n\u001b[1;32m     31\u001b[0m \u001b[0;32mdef\u001b[0m \u001b[0m_sum\u001b[0m\u001b[0;34m(\u001b[0m\u001b[0ma\u001b[0m\u001b[0;34m,\u001b[0m \u001b[0maxis\u001b[0m\u001b[0;34m=\u001b[0m\u001b[0;32mNone\u001b[0m\u001b[0;34m,\u001b[0m \u001b[0mdtype\u001b[0m\u001b[0;34m=\u001b[0m\u001b[0;32mNone\u001b[0m\u001b[0;34m,\u001b[0m \u001b[0mout\u001b[0m\u001b[0;34m=\u001b[0m\u001b[0;32mNone\u001b[0m\u001b[0;34m,\u001b[0m \u001b[0mkeepdims\u001b[0m\u001b[0;34m=\u001b[0m\u001b[0;32mFalse\u001b[0m\u001b[0;34m)\u001b[0m\u001b[0;34m:\u001b[0m\u001b[0;34m\u001b[0m\u001b[0m\n\u001b[0;32m---> 32\u001b[0;31m     \u001b[0;32mreturn\u001b[0m \u001b[0mumr_sum\u001b[0m\u001b[0;34m(\u001b[0m\u001b[0ma\u001b[0m\u001b[0;34m,\u001b[0m \u001b[0maxis\u001b[0m\u001b[0;34m,\u001b[0m \u001b[0mdtype\u001b[0m\u001b[0;34m,\u001b[0m \u001b[0mout\u001b[0m\u001b[0;34m,\u001b[0m \u001b[0mkeepdims\u001b[0m\u001b[0;34m)\u001b[0m\u001b[0;34m\u001b[0m\u001b[0m\n\u001b[0m\u001b[1;32m     33\u001b[0m \u001b[0;34m\u001b[0m\u001b[0m\n\u001b[1;32m     34\u001b[0m \u001b[0;32mdef\u001b[0m \u001b[0m_prod\u001b[0m\u001b[0;34m(\u001b[0m\u001b[0ma\u001b[0m\u001b[0;34m,\u001b[0m \u001b[0maxis\u001b[0m\u001b[0;34m=\u001b[0m\u001b[0;32mNone\u001b[0m\u001b[0;34m,\u001b[0m \u001b[0mdtype\u001b[0m\u001b[0;34m=\u001b[0m\u001b[0;32mNone\u001b[0m\u001b[0;34m,\u001b[0m \u001b[0mout\u001b[0m\u001b[0;34m=\u001b[0m\u001b[0;32mNone\u001b[0m\u001b[0;34m,\u001b[0m \u001b[0mkeepdims\u001b[0m\u001b[0;34m=\u001b[0m\u001b[0;32mFalse\u001b[0m\u001b[0;34m)\u001b[0m\u001b[0;34m:\u001b[0m\u001b[0;34m\u001b[0m\u001b[0m\n",
      "\u001b[0;31mKeyboardInterrupt\u001b[0m: "
     ]
    }
   ],
   "source": [
    "_iteration_count = 0\n",
    "\n",
    "start = score(_ranking)\n",
    "\n",
    "_scores.append(start[0])\n",
    "_individual_scores.append(start[1])\n",
    "\n",
    "for _ in range(100):\n",
    "    tmp_ranking = _ranking[:]\n",
    "    tmp_score, scores = score(tmp_ranking)\n",
    "    prev_score = tmp_score\n",
    "    print(\"Iteration:\", _, tmp_score, time.strftime(\"%Y-%m-%d %H:%M:%S\"))\n",
    "    for x in range(0, num_companies): #hyper\n",
    "        _iteration_count += 1\n",
    "        if _iteration_count % 200 == 0:\n",
    "            print(_iteration_count, tmp_score, time.strftime(\"%Y-%m-%d %H:%M:%S\"))\n",
    "            _scores.append(tmp_score)\n",
    "            _individual_scores.append(scores)\n",
    "            \n",
    "        tmp_ranking, tmp_score = bsearch_low(x, tmp_ranking, tmp_score)\n",
    "        tmp_ranking, tmp_score = bsearch_high(x, tmp_ranking, tmp_score)\n",
    "        \n",
    "        if tmp_score > prev_score:\n",
    "            _ranking = tmp_ranking\n",
    "            prev_score = tmp_score"
   ]
  },
  {
   "cell_type": "code",
   "execution_count": 65,
   "metadata": {
    "collapsed": false
   },
   "outputs": [
    {
     "data": {
      "text/plain": [
       "<matplotlib.axes._subplots.AxesSubplot at 0x108392c18>"
      ]
     },
     "execution_count": 65,
     "metadata": {},
     "output_type": "execute_result"
    },
    {
     "data": {
      "image/png": "[encoded data removed]",
      "text/plain": [
       "<matplotlib.figure.Figure at 0x1083d8080>"
      ]
     },
     "metadata": {},
     "output_type": "display_data"
    }
   ],
   "source": [
    "df = pd.DataFrame({'actual':_scores,\n",
    "                   'max': np.repeat(num_students, len(_scores))})\n",
    "df.plot()"
   ]
  },
  {
   "cell_type": "code",
   "execution_count": 82,
   "metadata": {
    "collapsed": false,
    "scrolled": true
   },
   "outputs": [
    {
     "data": {
      "text/plain": [
       "<matplotlib.axes._subplots.AxesSubplot at 0x111e65ef0>"
      ]
     },
     "execution_count": 82,
     "metadata": {},
     "output_type": "execute_result"
    },
    {
     "data": {
      "image/png": "[encoded data removed]",
      "text/plain": [
       "<matplotlib.figure.Figure at 0x11009d080>"
      ]
     },
     "metadata": {},
     "output_type": "display_data"
    }
   ],
   "source": [
    "z = {}\n",
    "for i,v in enumerate(_individual_scores):\n",
    "    if i % 20 == 0:\n",
    "        z[i] = v\n",
    "df2 = pd.DataFrame({'first': _individual_scores[0],\n",
    "                    'last': _individual_scores[-1],\n",
    "                    'p10': _individual_scores[len(_individual_scores)//10]})\n",
    "df2.plot(kind='hist', bins=50, alpha=0.5)"
   ]
  },
  {
   "cell_type": "code",
   "execution_count": 104,
   "metadata": {
    "collapsed": false,
    "scrolled": true
   },
   "outputs": [
    {
     "data": {
      "text/plain": [
       "['Palantir Technologies',\n",
       " 'Twitter',\n",
       " 'Microsoft',\n",
       " 'Mozilla',\n",
       " 'Google',\n",
       " 'ContextLogic',\n",
       " 'Facebook',\n",
       " 'Electronic Arts',\n",
       " 'A9.com',\n",
       " 'Zynga',\n",
       " 'Apple',\n",
       " 'Christie Digital Systems',\n",
       " 'Yelp',\n",
       " 'Amazon',\n",
       " 'LinkedIn',\n",
       " 'McAfee',\n",
       " 'Lookout',\n",
       " 'NVIDIA',\n",
       " 'Minted',\n",
       " 'Bloomberg']"
      ]
     },
     "execution_count": 104,
     "metadata": {},
     "output_type": "execute_result"
    }
   ],
   "source": [
    "get_names([x for x in _ranking if company_counter[x] > 10])[:20]"
   ]
  }
 ],
 "metadata": {
  "kernelspec": {
   "display_name": "Python 3",
   "language": "python",
   "name": "python3"
  },
  "language_info": {
   "codemirror_mode": {
    "name": "ipython",
    "version": 3
   },
   "file_extension": ".py",
   "mimetype": "text/x-python",
   "name": "python",
   "nbconvert_exporter": "python",
   "pygments_lexer": "ipython3",
   "version": "3.5.1"
  }
 },
 "nbformat": 4,
 "nbformat_minor": 0
}
