{
 "cells": [
  {
   "cell_type": "code",
   "execution_count": 350,
   "metadata": {
    "collapsed": true
   },
   "outputs": [],
   "source": [
    "%matplotlib inline\n",
    "import numpy as np\n",
    "import scipy as sp\n",
    "import time\n",
    "import matplotlib.pyplot as plt\n",
    "import random\n",
    "from collections import namedtuple, defaultdict, Counter\n",
    "import math\n",
    "import pickle"
   ]
  },
  {
   "cell_type": "markdown",
   "metadata": {},
   "source": [
    "# Data pull"
   ]
  },
  {
   "cell_type": "code",
   "execution_count": 330,
   "metadata": {
    "collapsed": false
   },
   "outputs": [
    {
     "data": {
      "text/plain": [
       "(1350, 2370, [3, 2, 1, 0], 101, 72)"
      ]
     },
     "execution_count": 330,
     "metadata": {},
     "output_type": "execute_result"
    }
   ],
   "source": [
    "with open('raw_data.txt') as f:\n",
    "    lines = f.readlines()\n",
    "lines = [x.strip().split('\\t') for x in lines]\n",
    "\n",
    "name_to_cid = {}\n",
    "cid_to_name = {}\n",
    "\n",
    "for resume in lines:\n",
    "    for name in resume:\n",
    "        if name not in name_to_cid:\n",
    "            name_to_cid[name] = len(name_to_cid)\n",
    "            cid_to_name[name_to_cid[name]] = name\n",
    "            \n",
    "G = [[name_to_cid[name] for name in reversed(row)] for row in lines]\n",
    "num_students = len(G)\n",
    "num_companies = len(name_to_cid)\n",
    "company_counter = Counter([cid for row in G for cid in row])\n",
    "\n",
    "cid_to_rows = defaultdict(set)\n",
    "for i, row in enumerate(G):\n",
    "    for cid in row:\n",
    "        cid_to_rows[cid].add(i)\n",
    "        \n",
    "num_students, num_companies, G[0], company_counter[name_to_cid['Google']], len(cid_to_rows[name_to_cid['Google']])"
   ]
  },
  {
   "cell_type": "markdown",
   "metadata": {},
   "source": [
    "# Ranking"
   ]
  },
  {
   "cell_type": "code",
   "execution_count": 331,
   "metadata": {
    "collapsed": false,
    "scrolled": true
   },
   "outputs": [
    {
     "data": {
      "text/plain": [
       "(0.82131371461378277, 0.9514426589871553)"
      ]
     },
     "execution_count": 331,
     "metadata": {},
     "output_type": "execute_result"
    }
   ],
   "source": [
    "def _dcg(r, variant):\n",
    "    # O(R)\n",
    "    p = r.size\n",
    "    if variant == 1:\n",
    "        return r[0] + np.sum(r[1:] / np.log2(np.arange(2, p + 1)))\n",
    "    else:\n",
    "        return np.sum((np.exp2(r) - 1.0) / np.log2(np.arange(1, p + 1) + 1.0))\n",
    "\n",
    "def _ndcg(r, variant):\n",
    "    # O(R log R)\n",
    "    sorted_r = np.sort(r)[::-1]\n",
    "    return _dcg(r, variant) / _dcg(sorted_r, variant)\n",
    "    \n",
    "def ndcg(relevances, variant=2):\n",
    "    assert variant in [1, 2]\n",
    "    z = {}\n",
    "    val = 1\n",
    "    for r in sorted(relevances):\n",
    "        if r not in z:\n",
    "            z[r] = val\n",
    "            val += 1\n",
    "    ans = [z[r] for r in relevances]\n",
    "    #print(ans)\n",
    "    return _ndcg(np.asfarray(ans), variant)\n",
    "\n",
    "ndcg([100.0, 200.0, 100.0]), ndcg([200.0, 100.0, 200.0])"
   ]
  },
  {
   "cell_type": "code",
   "execution_count": 448,
   "metadata": {
    "collapsed": true
   },
   "outputs": [],
   "source": [
    "def get_relevance(ranking):\n",
    "    z = {}\n",
    "    for i, cid in enumerate(ranking):\n",
    "        z[cid] = num_companies - i\n",
    "    return z\n",
    "\n",
    "def score(ranking):\n",
    "    relevance = get_relevance(ranking)\n",
    "    _score = sum(ndcg([relevance[cid] for cid in row]) for row in G)\n",
    "    return _score\n",
    "\n",
    "def get_partial_relevance(cid_to_rank, cid):\n",
    "    z = {}\n",
    "    for row_num in cid_to_rows[cid]:\n",
    "        for company in G[row_num]:\n",
    "            if company not in z:\n",
    "                z[company] = num_companies - cid_to_rank[company]\n",
    "    return z\n",
    "\n",
    "def get_partial_score(cid_to_rank, cid):\n",
    "    relevance = get_partial_relevance(cid_to_rank, cid)\n",
    "    _score = sum(ndcg([relevance[cid] for cid in G[row_num]]) for row_num in cid_to_rows[cid])\n",
    "    return _score"
   ]
  },
  {
   "cell_type": "code",
   "execution_count": 438,
   "metadata": {
    "collapsed": false
   },
   "outputs": [],
   "source": [
    "#ranking in descending order of goodness\n",
    "#ranking = list(range(num_companies))\n",
    "#np.random.shuffle(ranking)"
   ]
  },
  {
   "cell_type": "code",
   "execution_count": 490,
   "metadata": {
    "collapsed": false
   },
   "outputs": [
    {
     "data": {
      "text/plain": [
       "1329.4640746841908"
      ]
     },
     "execution_count": 490,
     "metadata": {},
     "output_type": "execute_result"
    }
   ],
   "source": [
    "current_score = score(ranking)\n",
    "current_score"
   ]
  },
  {
   "cell_type": "code",
   "execution_count": 491,
   "metadata": {
    "collapsed": false,
    "scrolled": false
   },
   "outputs": [
    {
     "data": {
      "text/plain": [
       "(['Palantir Technologies',\n",
       "  'Twitter',\n",
       "  'Google',\n",
       "  'ContextLogic',\n",
       "  'Microsoft',\n",
       "  'Facebook',\n",
       "  'Yelp',\n",
       "  'Arista Networks, Inc.',\n",
       "  'Amazon',\n",
       "  'Bloomberg'],\n",
       " ['Vine',\n",
       "  'UCIC',\n",
       "  'LightBot Inc',\n",
       "  'uwflow.com',\n",
       "  'Quora',\n",
       "  'Kite',\n",
       "  'Tinfoil Security',\n",
       "  'Palantir Technologies',\n",
       "  'Armor Games Inc',\n",
       "  'Bridgit'])"
      ]
     },
     "execution_count": 491,
     "metadata": {},
     "output_type": "execute_result"
    }
   ],
   "source": [
    "def get_names(ranking):\n",
    "    return [cid_to_name[cid] for cid in ranking]\n",
    "get_names(filter(lambda x: company_counter[x] > 10, ranking))[:10], get_names(ranking)[:10]\n",
    "#ranking[519], ranking[0] = ranking[0], ranking[519]\n",
    "#ranking.index(name_to_cid['Google'])"
   ]
  },
  {
   "cell_type": "code",
   "execution_count": 487,
   "metadata": {
    "collapsed": false,
    "scrolled": false
   },
   "outputs": [
    {
     "name": "stdout",
     "output_type": "stream",
     "text": [
      "Iteration: 0 1329.38500662 2016-02-28 15:38:09\n",
      "x = 0 2370 1329.38500662 2016-02-28 15:38:09\n",
      "x = 200 2370 1329.38500662 2016-02-28 15:38:36\n",
      "x = 400 2370 1329.38500662 2016-02-28 15:39:02\n",
      "x = 600 2370 1329.38500662 2016-02-28 15:39:25\n",
      "x = 800 2370 1329.38500662 2016-02-28 15:39:48\n",
      "x = 1000 2370 1329.38500662 2016-02-28 15:40:13\n",
      "x = 1200 2370 1329.38500662 2016-02-28 15:40:36\n",
      "x = 1400 2370 1329.38500662 2016-02-28 15:40:59\n",
      "x = 1600 2370 1329.38500662 2016-02-28 15:41:22\n",
      "x = 1800 2370 1329.38500662 2016-02-28 15:41:44\n",
      "x = 2000 2370 1329.38500662 2016-02-28 15:42:07\n",
      "x = 2200 2370 1329.38500662 2016-02-28 15:42:29\n",
      "Iteration: 1 1329.38500662 2016-02-28 15:42:48\n",
      "x = 0 2370 1329.38500662 2016-02-28 15:42:48\n",
      "x = 200 2370 1329.38500662 2016-02-28 15:43:12\n",
      "x = 400 2370 1329.38500662 2016-02-28 15:43:36\n",
      "x = 600 2370 1329.38500662 2016-02-28 15:43:59\n",
      "x = 800 2370 1329.38500662 2016-02-28 15:44:22\n",
      "x = 1000 2370 1329.38500662 2016-02-28 15:44:47\n",
      "x = 1200 2370 1329.38500662 2016-02-28 15:45:10\n",
      "x = 1400 2370 1329.38500662 2016-02-28 15:45:33\n",
      "x = 1600 2370 1329.38500662 2016-02-28 15:45:56\n",
      "x = 1800 2370 1329.38500662 2016-02-28 15:46:19\n",
      "x = 2000 2370 1329.38500662 2016-02-28 15:46:41\n",
      "x = 2200 2370 1329.38500662 2016-02-28 15:47:04\n",
      "Iteration: 2 1329.38500662 2016-02-28 15:47:23\n",
      "x = 0 2370 1329.38500662 2016-02-28 15:47:23\n",
      "x = 200 2370 1329.38500662 2016-02-28 15:47:47\n",
      "x = 400 2370 1329.38500662 2016-02-28 15:48:10\n",
      "x = 600 2370 1329.38500662 2016-02-28 15:48:33\n",
      "x = 800 2370 1329.38500662 2016-02-28 15:48:57\n",
      "x = 1000 2370 1329.38500662 2016-02-28 15:49:21\n",
      "x = 1200 2370 1329.38500662 2016-02-28 15:49:44\n",
      "x = 1400 2370 1329.38500662 2016-02-28 15:50:07\n",
      "x = 1600 2370 1329.38500662 2016-02-28 15:50:30\n",
      "x = 1800 2370 1329.38500662 2016-02-28 15:50:53\n",
      "x = 2000 2370 1329.38500662 2016-02-28 15:51:15\n",
      "x = 2200 2370 1329.38500662 2016-02-28 15:51:37\n",
      "Iteration: 3 1329.38500662 2016-02-28 15:51:56\n",
      "x = 0 2370 1329.38500662 2016-02-28 15:51:56\n",
      "x = 200 2370 1329.38500662 2016-02-28 15:52:20\n",
      "x = 400 2370 1329.38500662 2016-02-28 15:52:44\n",
      "x = 600 2370 1329.38500662 2016-02-28 15:53:07\n",
      "x = 800 2370 1329.38500662 2016-02-28 15:53:30\n",
      "YAY UPDATED:  1329.44289055 ['Vine', 'UCIC', 'LightBot Inc', 'uwflow.com', 'Quora', 'Kite', 'Tinfoil Security', 'Palantir Technologies', 'Armor Games Inc', 'Bridgit', 'Symphony Commerce', 'Bombe', 'DLR', 'Projexity', 'TellApart', 'VIPER Inc', 'Sift Science', 'Khan Academy', 'Pinterest', 'Diraya']\n",
      "x = 1000 2370 1329.44289055 2016-02-28 15:53:55\n",
      "x = 1200 2370 1329.44289055 2016-02-28 15:54:18\n",
      "x = 1400 2370 1329.44289055 2016-02-28 15:54:41\n",
      "x = 1600 2370 1329.44289055 2016-02-28 15:55:03\n",
      "x = 1800 2370 1329.44289055 2016-02-28 15:55:26\n",
      "x = 2000 2370 1329.44289055 2016-02-28 15:55:49\n",
      "x = 2200 2370 1329.44289055 2016-02-28 15:56:11\n",
      "YAY UPDATED:  1329.45358563 ['Vine', 'UCIC', 'LightBot Inc', 'uwflow.com', 'Quora', 'Kite', 'Tinfoil Security', 'Palantir Technologies', 'Armor Games Inc', 'Bridgit', 'Symphony Commerce', 'Bombe', 'DLR', 'Projexity', 'TellApart', 'VIPER Inc', 'Sift Science', 'Khan Academy', 'Pinterest', 'Diraya']\n",
      "YAY UPDATED:  1329.46407468 ['Vine', 'UCIC', 'LightBot Inc', 'uwflow.com', 'Quora', 'Kite', 'Tinfoil Security', 'Palantir Technologies', 'Armor Games Inc', 'Bridgit', 'Symphony Commerce', 'Bombe', 'DLR', 'Projexity', 'TellApart', 'VIPER Inc', 'Sift Science', 'Khan Academy', 'Pinterest', 'Diraya']\n",
      "Iteration: 3 1329.46407468 2016-02-28 15:56:30\n",
      "x = 0 2370 1329.46407468 2016-02-28 15:56:30\n",
      "x = 200 2370 1329.46407468 2016-02-28 15:56:54\n",
      "x = 400 2370 1329.46407468 2016-02-28 15:57:18\n",
      "x = 600 2370 1329.46407468 2016-02-28 15:57:41\n",
      "x = 800 2370 1329.46407468 2016-02-28 15:58:04\n",
      "x = 1000 2370 1329.46407468 2016-02-28 15:58:29\n",
      "x = 1200 2370 1329.46407468 2016-02-28 15:58:52\n",
      "x = 1400 2370 1329.46407468 2016-02-28 15:59:15\n",
      "x = 1600 2370 1329.46407468 2016-02-28 15:59:38\n",
      "x = 1800 2370 1329.46407468 2016-02-28 16:00:00\n",
      "x = 2000 2370 1329.46407468 2016-02-28 16:00:23\n",
      "x = 2200 2370 1329.46407468 2016-02-28 16:00:45\n",
      "Iteration: 4 1329.46407468 2016-02-28 16:01:04\n",
      "x = 0 2370 1329.46407468 2016-02-28 16:01:04\n",
      "x = 200 2370 1329.46407468 2016-02-28 16:01:28\n",
      "x = 400 2370 1329.46407468 2016-02-28 16:01:52\n",
      "x = 600 2370 1329.46407468 2016-02-28 16:02:15\n",
      "x = 800 2370 1329.46407468 2016-02-28 16:02:38\n",
      "x = 1000 2370 1329.46407468 2016-02-28 16:03:03\n",
      "x = 1200 2370 1329.46407468 2016-02-28 16:03:26\n",
      "x = 1400 2370 1329.46407468 2016-02-28 16:03:49\n",
      "x = 1600 2370 1329.46407468 2016-02-28 16:04:12\n",
      "x = 1800 2370 1329.46407468 2016-02-28 16:04:35\n",
      "x = 2000 2370 1329.46407468 2016-02-28 16:04:57\n",
      "x = 2200 2370 1329.46407468 2016-02-28 16:05:20\n",
      "Iteration: 5 1329.46407468 2016-02-28 16:05:39\n",
      "x = 0 2370 1329.46407468 2016-02-28 16:05:39\n",
      "x = 200 2370 1329.46407468 2016-02-28 16:06:03\n",
      "x = 400 2370 1329.46407468 2016-02-28 16:06:26\n",
      "x = 600 2370 1329.46407468 2016-02-28 16:06:49\n",
      "x = 800 2370 1329.46407468 2016-02-28 16:07:12\n",
      "x = 1000 2370 1329.46407468 2016-02-28 16:07:37\n",
      "x = 1200 2370 1329.46407468 2016-02-28 16:08:00\n",
      "x = 1400 2370 1329.46407468 2016-02-28 16:08:23\n",
      "x = 1600 2370 1329.46407468 2016-02-28 16:08:46\n",
      "x = 1800 2370 1329.46407468 2016-02-28 16:09:09\n",
      "x = 2000 2370 1329.46407468 2016-02-28 16:09:31\n",
      "x = 2200 2370 1329.46407468 2016-02-28 16:09:53\n",
      "Iteration: 6 1329.46407468 2016-02-28 16:10:12\n",
      "x = 0 2370 1329.46407468 2016-02-28 16:10:12\n",
      "x = 200 2370 1329.46407468 2016-02-28 16:10:36\n",
      "x = 400 2370 1329.46407468 2016-02-28 16:11:00\n",
      "x = 600 2370 1329.46407468 2016-02-28 16:11:23\n",
      "x = 800 2370 1329.46407468 2016-02-28 16:11:46\n",
      "x = 1000 2370 1329.46407468 2016-02-28 16:12:11\n",
      "x = 1200 2370 1329.46407468 2016-02-28 16:12:34\n",
      "x = 1400 2370 1329.46407468 2016-02-28 16:12:57\n",
      "x = 1600 2370 1329.46407468 2016-02-28 16:13:20\n",
      "x = 1800 2370 1329.46407468 2016-02-28 16:13:43\n",
      "x = 2000 2370 1329.46407468 2016-02-28 16:14:06\n",
      "x = 2200 2370 1329.46407468 2016-02-28 16:14:28\n",
      "Iteration: 7 1329.46407468 2016-02-28 16:14:47\n",
      "x = 0 2370 1329.46407468 2016-02-28 16:14:47\n",
      "x = 200 2370 1329.46407468 2016-02-28 16:15:11\n",
      "x = 400 2370 1329.46407468 2016-02-28 16:15:34\n",
      "x = 600 2370 1329.46407468 2016-02-28 16:15:57\n",
      "x = 800 2370 1329.46407468 2016-02-28 16:16:21\n",
      "x = 1000 2370 1329.46407468 2016-02-28 16:16:46\n",
      "x = 1200 2370 1329.46407468 2016-02-28 16:17:09\n",
      "x = 1400 2370 1329.46407468 2016-02-28 16:17:32\n",
      "x = 1600 2370 1329.46407468 2016-02-28 16:17:55\n",
      "x = 1800 2370 1329.46407468 2016-02-28 16:18:17\n",
      "x = 2000 2370 1329.46407468 2016-02-28 16:18:40\n",
      "x = 2200 2370 1329.46407468 2016-02-28 16:19:02\n",
      "Iteration: 8 1329.46407468 2016-02-28 16:19:21\n",
      "x = 0 2370 1329.46407468 2016-02-28 16:19:21\n",
      "x = 200 2370 1329.46407468 2016-02-28 16:19:45\n",
      "x = 400 2370 1329.46407468 2016-02-28 16:20:09\n",
      "x = 600 2370 1329.46407468 2016-02-28 16:20:32\n",
      "x = 800 2370 1329.46407468 2016-02-28 16:20:55\n",
      "x = 1000 2370 1329.46407468 2016-02-28 16:21:20\n",
      "x = 1200 2370 1329.46407468 2016-02-28 16:21:43\n",
      "x = 1400 2370 1329.46407468 2016-02-28 16:22:06\n",
      "x = 1600 2370 1329.46407468 2016-02-28 16:22:28\n",
      "x = 1800 2370 1329.46407468 2016-02-28 16:22:51\n",
      "x = 2000 2370 1329.46407468 2016-02-28 16:23:14\n",
      "x = 2200 2370 1329.46407468 2016-02-28 16:23:36\n",
      "Iteration: 9 1329.46407468 2016-02-28 16:23:55\n",
      "x = 0 2370 1329.46407468 2016-02-28 16:23:55\n",
      "x = 200 2370 1329.46407468 2016-02-28 16:24:19\n",
      "x = 400 2370 1329.46407468 2016-02-28 16:24:43\n",
      "x = 600 2370 1329.46407468 2016-02-28 16:25:06\n",
      "x = 800 2370 1329.46407468 2016-02-28 16:25:29\n",
      "x = 1000 2370 1329.46407468 2016-02-28 16:25:54\n",
      "x = 1200 2370 1329.46407468 2016-02-28 16:26:17\n",
      "x = 1400 2370 1329.46407468 2016-02-28 16:26:44\n",
      "x = 1600 2370 1329.46407468 2016-02-28 16:27:08\n"
     ]
    },
    {
     "ename": "KeyboardInterrupt",
     "evalue": "",
     "output_type": "error",
     "traceback": [
      "\u001b[0;31m---------------------------------------------------------------------------\u001b[0m",
      "\u001b[0;31mKeyboardInterrupt\u001b[0m                         Traceback (most recent call last)",
      "\u001b[0;32m<ipython-input-487-c1306ef6c9c3>\u001b[0m in \u001b[0;36m<module>\u001b[0;34m()\u001b[0m\n\u001b[1;32m    101\u001b[0m                 \u001b[0mprint\u001b[0m\u001b[0;34m(\u001b[0m\u001b[0;34m'x ='\u001b[0m\u001b[0;34m,\u001b[0m \u001b[0mx\u001b[0m\u001b[0;34m,\u001b[0m \u001b[0mnum_companies\u001b[0m\u001b[0;34m,\u001b[0m \u001b[0mtmp_score\u001b[0m\u001b[0;34m,\u001b[0m \u001b[0mtime\u001b[0m\u001b[0;34m.\u001b[0m\u001b[0mstrftime\u001b[0m\u001b[0;34m(\u001b[0m\u001b[0;34m\"%Y-%m-%d %H:%M:%S\"\u001b[0m\u001b[0;34m)\u001b[0m\u001b[0;34m)\u001b[0m\u001b[0;34m\u001b[0m\u001b[0m\n\u001b[1;32m    102\u001b[0m             \u001b[0mtmp_ranking\u001b[0m\u001b[0;34m,\u001b[0m \u001b[0mtmp_score\u001b[0m \u001b[0;34m=\u001b[0m \u001b[0mbsearch_low\u001b[0m\u001b[0;34m(\u001b[0m\u001b[0mx\u001b[0m\u001b[0;34m,\u001b[0m \u001b[0mtmp_ranking\u001b[0m\u001b[0;34m,\u001b[0m \u001b[0mtmp_score\u001b[0m\u001b[0;34m)\u001b[0m\u001b[0;34m\u001b[0m\u001b[0m\n\u001b[0;32m--> 103\u001b[0;31m             \u001b[0mtmp_ranking\u001b[0m\u001b[0;34m,\u001b[0m \u001b[0mtmp_score\u001b[0m \u001b[0;34m=\u001b[0m \u001b[0mbsearch_high\u001b[0m\u001b[0;34m(\u001b[0m\u001b[0mx\u001b[0m\u001b[0;34m,\u001b[0m \u001b[0mtmp_ranking\u001b[0m\u001b[0;34m,\u001b[0m \u001b[0mtmp_score\u001b[0m\u001b[0;34m)\u001b[0m\u001b[0;34m\u001b[0m\u001b[0m\n\u001b[0m\u001b[1;32m    104\u001b[0m             \u001b[0;32mif\u001b[0m \u001b[0mtmp_score\u001b[0m \u001b[0;34m>\u001b[0m \u001b[0mcurrent_score\u001b[0m\u001b[0;34m:\u001b[0m\u001b[0;34m\u001b[0m\u001b[0m\n\u001b[1;32m    105\u001b[0m                 \u001b[0mcurrent_score\u001b[0m \u001b[0;34m=\u001b[0m \u001b[0mtmp_score\u001b[0m\u001b[0;34m\u001b[0m\u001b[0m\n",
      "\u001b[0;32m<ipython-input-487-c1306ef6c9c3>\u001b[0m in \u001b[0;36mbsearch_high\u001b[0;34m(x, ranking, current_score)\u001b[0m\n\u001b[1;32m     82\u001b[0m     \u001b[0;32mif\u001b[0m \u001b[0my_high\u001b[0m \u001b[0;34m!=\u001b[0m \u001b[0mx\u001b[0m\u001b[0;34m:\u001b[0m\u001b[0;34m\u001b[0m\u001b[0m\n\u001b[1;32m     83\u001b[0m         \u001b[0mranking_test\u001b[0m \u001b[0;34m=\u001b[0m \u001b[0minsert_ranking_test\u001b[0m\u001b[0;34m(\u001b[0m\u001b[0mx\u001b[0m\u001b[0;34m,\u001b[0m \u001b[0my_high\u001b[0m\u001b[0;34m,\u001b[0m \u001b[0mranking\u001b[0m\u001b[0;34m)\u001b[0m\u001b[0;34m\u001b[0m\u001b[0m\n\u001b[0;32m---> 84\u001b[0;31m         \u001b[0mnew_score\u001b[0m \u001b[0;34m=\u001b[0m \u001b[0mscore\u001b[0m\u001b[0;34m(\u001b[0m\u001b[0mranking_test\u001b[0m\u001b[0;34m)\u001b[0m\u001b[0;34m\u001b[0m\u001b[0m\n\u001b[0m\u001b[1;32m     85\u001b[0m         \u001b[0;32mif\u001b[0m \u001b[0mnew_score\u001b[0m \u001b[0;34m>\u001b[0m \u001b[0mcurrent_score\u001b[0m\u001b[0;34m:\u001b[0m\u001b[0;34m\u001b[0m\u001b[0m\n\u001b[1;32m     86\u001b[0m             \u001b[0mcurrent_score\u001b[0m \u001b[0;34m=\u001b[0m \u001b[0mnew_score\u001b[0m\u001b[0;34m\u001b[0m\u001b[0m\n",
      "\u001b[0;32m<ipython-input-448-41b7bb13571e>\u001b[0m in \u001b[0;36mscore\u001b[0;34m(ranking)\u001b[0m\n\u001b[1;32m      7\u001b[0m \u001b[0;32mdef\u001b[0m \u001b[0mscore\u001b[0m\u001b[0;34m(\u001b[0m\u001b[0mranking\u001b[0m\u001b[0;34m)\u001b[0m\u001b[0;34m:\u001b[0m\u001b[0;34m\u001b[0m\u001b[0m\n\u001b[1;32m      8\u001b[0m     \u001b[0mrelevance\u001b[0m \u001b[0;34m=\u001b[0m \u001b[0mget_relevance\u001b[0m\u001b[0;34m(\u001b[0m\u001b[0mranking\u001b[0m\u001b[0;34m)\u001b[0m\u001b[0;34m\u001b[0m\u001b[0m\n\u001b[0;32m----> 9\u001b[0;31m     \u001b[0m_score\u001b[0m \u001b[0;34m=\u001b[0m \u001b[0msum\u001b[0m\u001b[0;34m(\u001b[0m\u001b[0mndcg\u001b[0m\u001b[0;34m(\u001b[0m\u001b[0;34m[\u001b[0m\u001b[0mrelevance\u001b[0m\u001b[0;34m[\u001b[0m\u001b[0mcid\u001b[0m\u001b[0;34m]\u001b[0m \u001b[0;32mfor\u001b[0m \u001b[0mcid\u001b[0m \u001b[0;32min\u001b[0m \u001b[0mrow\u001b[0m\u001b[0;34m]\u001b[0m\u001b[0;34m)\u001b[0m \u001b[0;32mfor\u001b[0m \u001b[0mrow\u001b[0m \u001b[0;32min\u001b[0m \u001b[0mG\u001b[0m\u001b[0;34m)\u001b[0m\u001b[0;34m\u001b[0m\u001b[0m\n\u001b[0m\u001b[1;32m     10\u001b[0m     \u001b[0;32mreturn\u001b[0m \u001b[0m_score\u001b[0m\u001b[0;34m\u001b[0m\u001b[0m\n\u001b[1;32m     11\u001b[0m \u001b[0;34m\u001b[0m\u001b[0m\n",
      "\u001b[0;32m<ipython-input-448-41b7bb13571e>\u001b[0m in \u001b[0;36m<genexpr>\u001b[0;34m(.0)\u001b[0m\n\u001b[1;32m      7\u001b[0m \u001b[0;32mdef\u001b[0m \u001b[0mscore\u001b[0m\u001b[0;34m(\u001b[0m\u001b[0mranking\u001b[0m\u001b[0;34m)\u001b[0m\u001b[0;34m:\u001b[0m\u001b[0;34m\u001b[0m\u001b[0m\n\u001b[1;32m      8\u001b[0m     \u001b[0mrelevance\u001b[0m \u001b[0;34m=\u001b[0m \u001b[0mget_relevance\u001b[0m\u001b[0;34m(\u001b[0m\u001b[0mranking\u001b[0m\u001b[0;34m)\u001b[0m\u001b[0;34m\u001b[0m\u001b[0m\n\u001b[0;32m----> 9\u001b[0;31m     \u001b[0m_score\u001b[0m \u001b[0;34m=\u001b[0m \u001b[0msum\u001b[0m\u001b[0;34m(\u001b[0m\u001b[0mndcg\u001b[0m\u001b[0;34m(\u001b[0m\u001b[0;34m[\u001b[0m\u001b[0mrelevance\u001b[0m\u001b[0;34m[\u001b[0m\u001b[0mcid\u001b[0m\u001b[0;34m]\u001b[0m \u001b[0;32mfor\u001b[0m \u001b[0mcid\u001b[0m \u001b[0;32min\u001b[0m \u001b[0mrow\u001b[0m\u001b[0;34m]\u001b[0m\u001b[0;34m)\u001b[0m \u001b[0;32mfor\u001b[0m \u001b[0mrow\u001b[0m \u001b[0;32min\u001b[0m \u001b[0mG\u001b[0m\u001b[0;34m)\u001b[0m\u001b[0;34m\u001b[0m\u001b[0m\n\u001b[0m\u001b[1;32m     10\u001b[0m     \u001b[0;32mreturn\u001b[0m \u001b[0m_score\u001b[0m\u001b[0;34m\u001b[0m\u001b[0m\n\u001b[1;32m     11\u001b[0m \u001b[0;34m\u001b[0m\u001b[0m\n",
      "\u001b[0;32m<ipython-input-331-f881f9bb8ed6>\u001b[0m in \u001b[0;36mndcg\u001b[0;34m(relevances, variant)\u001b[0m\n\u001b[1;32m     22\u001b[0m     \u001b[0mans\u001b[0m \u001b[0;34m=\u001b[0m \u001b[0;34m[\u001b[0m\u001b[0mz\u001b[0m\u001b[0;34m[\u001b[0m\u001b[0mr\u001b[0m\u001b[0;34m]\u001b[0m \u001b[0;32mfor\u001b[0m \u001b[0mr\u001b[0m \u001b[0;32min\u001b[0m \u001b[0mrelevances\u001b[0m\u001b[0;34m]\u001b[0m\u001b[0;34m\u001b[0m\u001b[0m\n\u001b[1;32m     23\u001b[0m     \u001b[0;31m#print(ans)\u001b[0m\u001b[0;34m\u001b[0m\u001b[0;34m\u001b[0m\u001b[0m\n\u001b[0;32m---> 24\u001b[0;31m     \u001b[0;32mreturn\u001b[0m \u001b[0m_ndcg\u001b[0m\u001b[0;34m(\u001b[0m\u001b[0mnp\u001b[0m\u001b[0;34m.\u001b[0m\u001b[0masfarray\u001b[0m\u001b[0;34m(\u001b[0m\u001b[0mans\u001b[0m\u001b[0;34m)\u001b[0m\u001b[0;34m,\u001b[0m \u001b[0mvariant\u001b[0m\u001b[0;34m)\u001b[0m\u001b[0;34m\u001b[0m\u001b[0m\n\u001b[0m\u001b[1;32m     25\u001b[0m \u001b[0;34m\u001b[0m\u001b[0m\n\u001b[1;32m     26\u001b[0m \u001b[0mndcg\u001b[0m\u001b[0;34m(\u001b[0m\u001b[0;34m[\u001b[0m\u001b[0;36m100.0\u001b[0m\u001b[0;34m,\u001b[0m \u001b[0;36m200.0\u001b[0m\u001b[0;34m,\u001b[0m \u001b[0;36m100.0\u001b[0m\u001b[0;34m]\u001b[0m\u001b[0;34m)\u001b[0m\u001b[0;34m,\u001b[0m \u001b[0mndcg\u001b[0m\u001b[0;34m(\u001b[0m\u001b[0;34m[\u001b[0m\u001b[0;36m200.0\u001b[0m\u001b[0;34m,\u001b[0m \u001b[0;36m100.0\u001b[0m\u001b[0;34m,\u001b[0m \u001b[0;36m200.0\u001b[0m\u001b[0;34m]\u001b[0m\u001b[0;34m)\u001b[0m\u001b[0;34m\u001b[0m\u001b[0m\n",
      "\u001b[0;32m<ipython-input-331-f881f9bb8ed6>\u001b[0m in \u001b[0;36m_ndcg\u001b[0;34m(r, variant)\u001b[0m\n\u001b[1;32m     10\u001b[0m     \u001b[0;31m# O(R log R)\u001b[0m\u001b[0;34m\u001b[0m\u001b[0;34m\u001b[0m\u001b[0m\n\u001b[1;32m     11\u001b[0m     \u001b[0msorted_r\u001b[0m \u001b[0;34m=\u001b[0m \u001b[0mnp\u001b[0m\u001b[0;34m.\u001b[0m\u001b[0msort\u001b[0m\u001b[0;34m(\u001b[0m\u001b[0mr\u001b[0m\u001b[0;34m)\u001b[0m\u001b[0;34m[\u001b[0m\u001b[0;34m:\u001b[0m\u001b[0;34m:\u001b[0m\u001b[0;34m-\u001b[0m\u001b[0;36m1\u001b[0m\u001b[0;34m]\u001b[0m\u001b[0;34m\u001b[0m\u001b[0m\n\u001b[0;32m---> 12\u001b[0;31m     \u001b[0;32mreturn\u001b[0m \u001b[0m_dcg\u001b[0m\u001b[0;34m(\u001b[0m\u001b[0mr\u001b[0m\u001b[0;34m,\u001b[0m \u001b[0mvariant\u001b[0m\u001b[0;34m)\u001b[0m \u001b[0;34m/\u001b[0m \u001b[0m_dcg\u001b[0m\u001b[0;34m(\u001b[0m\u001b[0msorted_r\u001b[0m\u001b[0;34m,\u001b[0m \u001b[0mvariant\u001b[0m\u001b[0;34m)\u001b[0m\u001b[0;34m\u001b[0m\u001b[0m\n\u001b[0m\u001b[1;32m     13\u001b[0m \u001b[0;34m\u001b[0m\u001b[0m\n\u001b[1;32m     14\u001b[0m \u001b[0;32mdef\u001b[0m \u001b[0mndcg\u001b[0m\u001b[0;34m(\u001b[0m\u001b[0mrelevances\u001b[0m\u001b[0;34m,\u001b[0m \u001b[0mvariant\u001b[0m\u001b[0;34m=\u001b[0m\u001b[0;36m2\u001b[0m\u001b[0;34m)\u001b[0m\u001b[0;34m:\u001b[0m\u001b[0;34m\u001b[0m\u001b[0m\n",
      "\u001b[0;32m<ipython-input-331-f881f9bb8ed6>\u001b[0m in \u001b[0;36m_dcg\u001b[0;34m(r, variant)\u001b[0m\n\u001b[1;32m      5\u001b[0m         \u001b[0;32mreturn\u001b[0m \u001b[0mr\u001b[0m\u001b[0;34m[\u001b[0m\u001b[0;36m0\u001b[0m\u001b[0;34m]\u001b[0m \u001b[0;34m+\u001b[0m \u001b[0mnp\u001b[0m\u001b[0;34m.\u001b[0m\u001b[0msum\u001b[0m\u001b[0;34m(\u001b[0m\u001b[0mr\u001b[0m\u001b[0;34m[\u001b[0m\u001b[0;36m1\u001b[0m\u001b[0;34m:\u001b[0m\u001b[0;34m]\u001b[0m \u001b[0;34m/\u001b[0m \u001b[0mnp\u001b[0m\u001b[0;34m.\u001b[0m\u001b[0mlog2\u001b[0m\u001b[0;34m(\u001b[0m\u001b[0mnp\u001b[0m\u001b[0;34m.\u001b[0m\u001b[0marange\u001b[0m\u001b[0;34m(\u001b[0m\u001b[0;36m2\u001b[0m\u001b[0;34m,\u001b[0m \u001b[0mp\u001b[0m \u001b[0;34m+\u001b[0m \u001b[0;36m1\u001b[0m\u001b[0;34m)\u001b[0m\u001b[0;34m)\u001b[0m\u001b[0;34m)\u001b[0m\u001b[0;34m\u001b[0m\u001b[0m\n\u001b[1;32m      6\u001b[0m     \u001b[0;32melse\u001b[0m\u001b[0;34m:\u001b[0m\u001b[0;34m\u001b[0m\u001b[0m\n\u001b[0;32m----> 7\u001b[0;31m         \u001b[0;32mreturn\u001b[0m \u001b[0mnp\u001b[0m\u001b[0;34m.\u001b[0m\u001b[0msum\u001b[0m\u001b[0;34m(\u001b[0m\u001b[0;34m(\u001b[0m\u001b[0mnp\u001b[0m\u001b[0;34m.\u001b[0m\u001b[0mexp2\u001b[0m\u001b[0;34m(\u001b[0m\u001b[0mr\u001b[0m\u001b[0;34m)\u001b[0m \u001b[0;34m-\u001b[0m \u001b[0;36m1.0\u001b[0m\u001b[0;34m)\u001b[0m \u001b[0;34m/\u001b[0m \u001b[0mnp\u001b[0m\u001b[0;34m.\u001b[0m\u001b[0mlog2\u001b[0m\u001b[0;34m(\u001b[0m\u001b[0mnp\u001b[0m\u001b[0;34m.\u001b[0m\u001b[0marange\u001b[0m\u001b[0;34m(\u001b[0m\u001b[0;36m1\u001b[0m\u001b[0;34m,\u001b[0m \u001b[0mp\u001b[0m \u001b[0;34m+\u001b[0m \u001b[0;36m1\u001b[0m\u001b[0;34m)\u001b[0m \u001b[0;34m+\u001b[0m \u001b[0;36m1.0\u001b[0m\u001b[0;34m)\u001b[0m\u001b[0;34m)\u001b[0m\u001b[0;34m\u001b[0m\u001b[0m\n\u001b[0m\u001b[1;32m      8\u001b[0m \u001b[0;34m\u001b[0m\u001b[0m\n\u001b[1;32m      9\u001b[0m \u001b[0;32mdef\u001b[0m \u001b[0m_ndcg\u001b[0m\u001b[0;34m(\u001b[0m\u001b[0mr\u001b[0m\u001b[0;34m,\u001b[0m \u001b[0mvariant\u001b[0m\u001b[0;34m)\u001b[0m\u001b[0;34m:\u001b[0m\u001b[0;34m\u001b[0m\u001b[0m\n",
      "\u001b[0;31mKeyboardInterrupt\u001b[0m: "
     ]
    }
   ],
   "source": [
    "def insert_ranking_test(from_val, to_val, ranking):\n",
    "    assert from_val != to_val\n",
    "    ranking_test = ranking[:]\n",
    "    v = ranking_test.pop(from_val)\n",
    "    ranking_test.insert(to_val, v)\n",
    "    assert len(set(ranking_test)) == num_companies\n",
    "#    assert len(ranking_test) == num_companies\n",
    "    return ranking_test\n",
    "\n",
    "def get_ranking_map(ranking):\n",
    "    z = {}\n",
    "    for i, v in enumerate(ranking):\n",
    "        z[v] = i\n",
    "    return z\n",
    "\n",
    "def fast_insert_score(from_val, to_val, cid, ranking_map):\n",
    "    assert ranking_map[cid] == from_val\n",
    "    assert from_val != to_val\n",
    "    old_partial_score = get_partial_score(ranking_map, cid)\n",
    "    if to_val < from_val:\n",
    "        ranking_map[cid] = to_val - 0.5\n",
    "    else:\n",
    "        ranking_map[cid] = to_val + 0.5\n",
    "    new_partial_score = get_partial_score(ranking_map, cid)\n",
    "    ranking_map[cid] = from_val\n",
    "    return new_partial_score - old_partial_score\n",
    "    \n",
    "def bsearch_low(x, ranking, current_score):\n",
    "    ranking_map = get_ranking_map(ranking)\n",
    "    y_low = 0 #insert before this guy\n",
    "    y_high = x # non-inclusive\n",
    "\n",
    "    while y_high - y_low > 1:\n",
    "        y_mid = (y_low + y_high - 1) // 2 # this rounds closer to y_low\n",
    "        y_mid = random.randint(y_low, y_mid) # more aggressive, more likely to overshoot\n",
    "\n",
    "        fast_score = fast_insert_score(x, y_mid, ranking[x], ranking_map)\n",
    "\n",
    "        if math.isclose(fast_score, 0.0, abs_tol=1e-5):\n",
    "            y_high = y_mid + 1\n",
    "        elif fast_score > 0.0:\n",
    "            ranking_test = insert_ranking_test(x, y_mid, ranking)\n",
    "            new_score = score(ranking_test)\n",
    "            assert new_score > current_score\n",
    "            current_score = new_score\n",
    "            ranking = ranking_test\n",
    "            return ranking, current_score\n",
    "        else:\n",
    "            y_low = y_mid + 1\n",
    "            \n",
    "    if y_low != x:\n",
    "        ranking_test = insert_ranking_test(x, y_low, ranking)\n",
    "        new_score = score(ranking_test)\n",
    "        if new_score > current_score:\n",
    "            current_score = new_score\n",
    "            ranking = ranking_test\n",
    "    return ranking, current_score\n",
    "\n",
    "def bsearch_high(x, ranking, current_score):\n",
    "    ranking_map = get_ranking_map(ranking)\n",
    "    y_low = x #non-inclusive\n",
    "    y_high = num_companies - 1 #insert after this guy\n",
    "\n",
    "    while y_high - y_low > 1:\n",
    "        y_mid = (y_low + y_high + 2) // 2 # this rounds closer to y_high\n",
    "        y_mid = random.randint(y_mid, y_high) # more aggressive, more likely to overshoot\n",
    "\n",
    "        fast_score = fast_insert_score(x, y_mid, ranking[x], ranking_map)\n",
    "\n",
    "        if math.isclose(fast_score, 0.0, abs_tol=1e-5):\n",
    "            y_low = y_mid - 1\n",
    "        elif fast_score > 0.0:\n",
    "            ranking_test = insert_ranking_test(x, y_mid, ranking)\n",
    "            new_score = score(ranking_test)\n",
    "            assert new_score > current_score\n",
    "            current_score = new_score\n",
    "            ranking = ranking_test\n",
    "            return ranking, current_score\n",
    "        else:\n",
    "            y_high = y_mid - 1\n",
    "    \n",
    "    if y_high != x:\n",
    "        ranking_test = insert_ranking_test(x, y_high, ranking)\n",
    "        new_score = score(ranking_test)\n",
    "        if new_score > current_score:\n",
    "            current_score = new_score\n",
    "            ranking = ranking_test\n",
    "    return ranking, current_score\n",
    "\n",
    "\n",
    "current_score = score(ranking)\n",
    "    tmp_ranking = ranking[:]\n",
    "    tmp_score = current_score\n",
    "for _ in range(100):\n",
    "    while True: #hyper\n",
    "        prev_tmp_score = tmp_score\n",
    "        print(\"Iteration:\", _, tmp_score, time.strftime(\"%Y-%m-%d %H:%M:%S\"))\n",
    "\n",
    "        for x in range(0, num_companies): #hyper\n",
    "            if x % 200 == 0:\n",
    "                print('x =', x, num_companies, tmp_score, time.strftime(\"%Y-%m-%d %H:%M:%S\"))\n",
    "            tmp_ranking, tmp_score = bsearch_low(x, tmp_ranking, tmp_score)\n",
    "            tmp_ranking, tmp_score = bsearch_high(x, tmp_ranking, tmp_score)\n",
    "            if tmp_score > current_score:\n",
    "                current_score = tmp_score\n",
    "                ranking = tmp_ranking\n",
    "                print(\"YAY UPDATED: \", current_score, get_names(ranking)[:20])\n",
    "\n",
    "        if math.isclose(tmp_score, prev_tmp_score, abs_tol=1e-5):\n",
    "            break"
   ]
  },
  {
   "cell_type": "code",
   "execution_count": 492,
   "metadata": {
    "collapsed": true
   },
   "outputs": [],
   "source": [
    "pickle.dump(ranking, open('final_ranking.txt', 'wb'))"
   ]
  },
  {
   "cell_type": "code",
   "execution_count": null,
   "metadata": {
    "collapsed": true
   },
   "outputs": [],
   "source": []
  }
 ],
 "metadata": {
  "kernelspec": {
   "display_name": "Python 3",
   "language": "python",
   "name": "python3"
  },
  "language_info": {
   "codemirror_mode": {
    "name": "ipython",
    "version": 3
   },
   "file_extension": ".py",
   "mimetype": "text/x-python",
   "name": "python",
   "nbconvert_exporter": "python",
   "pygments_lexer": "ipython3",
   "version": "3.5.1"
  }
 },
 "nbformat": 4,
 "nbformat_minor": 0
}
